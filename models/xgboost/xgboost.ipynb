{
 "cells": [
  {
   "cell_type": "code",
   "execution_count": 1,
   "id": "312b1b4b-d452-4204-a333-3b6c8be72bae",
   "metadata": {},
   "outputs": [],
   "source": [
    "import os\n",
    "from collections import defaultdict\n",
    "import time\n",
    "\n",
    "import numpy as np # linear algebra\n",
    "import pandas as pd # data processing, CSV file I/O (e.g. pd.read_csv)\n",
    "import matplotlib.pyplot as plt\n",
    "from sklearn.utils import shuffle\n",
    "from sklearn.datasets import dump_svmlight_file\n",
    "import scipy\n",
    "import xgboost as xgb\n",
    "\n",
    "from utils.utils import *\n",
    "\n",
    "\n",
    "for dirname, _, filenames in os.walk('../data/'):\n",
    "    for filename in filenames:\n",
    "        print(os.path.join(dirname, filename))\n",
    "\n"
   ]
  },
  {
   "cell_type": "code",
   "execution_count": 12,
   "id": "8a5adf36-6991-4b61-b074-09adbdee94fe",
   "metadata": {},
   "outputs": [
    {
     "name": "stdout",
     "output_type": "stream",
     "text": [
      "Index(['padded_sequence', 'pH', 'length'], dtype='object')\n",
      "(27261, 3)\n",
      "Index(['Letter', 'Molecular Weight', 'Residue Weight', 'pKa1', 'pKb2', 'pKx3',\n",
      "       'pl4', 'H', 'VSC', 'P1', 'P2', 'SASA', 'NCISC', 'carbon', 'hydrogen',\n",
      "       'nitrogen', 'oxygen', 'sulfur'],\n",
      "      dtype='object')\n",
      "1128\n",
      "At 7%. Runtime: 0 minutes\r"
     ]
    },
    {
     "ename": "KeyboardInterrupt",
     "evalue": "",
     "output_type": "error",
     "traceback": [
      "\u001b[0;31m---------------------------------------------------------------------------\u001b[0m",
      "\u001b[0;31mKeyboardInterrupt\u001b[0m                         Traceback (most recent call last)",
      "Cell \u001b[0;32mIn[12], line 107\u001b[0m\n\u001b[1;32m    104\u001b[0m pH \u001b[38;5;241m=\u001b[39m x[\u001b[38;5;241m1\u001b[39m]\n\u001b[1;32m    105\u001b[0m length \u001b[38;5;241m=\u001b[39m x[\u001b[38;5;241m2\u001b[39m]\n\u001b[0;32m--> 107\u001b[0m row \u001b[38;5;241m=\u001b[39m np\u001b[38;5;241m.\u001b[39marray(\u001b[43m[\u001b[49m\u001b[43mamino_acid_data_dictionary\u001b[49m\u001b[43m[\u001b[49m\u001b[43mamino_acid\u001b[49m\u001b[43m]\u001b[49m\u001b[43m \u001b[49m\u001b[38;5;28;43;01mfor\u001b[39;49;00m\u001b[43m \u001b[49m\u001b[43mamino_acid\u001b[49m\u001b[43m \u001b[49m\u001b[38;5;129;43;01min\u001b[39;49;00m\u001b[43m \u001b[49m\u001b[43msequence\u001b[49m\u001b[43m]\u001b[49m)\n\u001b[1;32m    108\u001b[0m row[:, [\u001b[38;5;241m2\u001b[39m,\u001b[38;5;241m3\u001b[39m, \u001b[38;5;241m4\u001b[39m,\u001b[38;5;241m5\u001b[39m]] \u001b[38;5;241m=\u001b[39m row[:, [\u001b[38;5;241m2\u001b[39m,\u001b[38;5;241m3\u001b[39m, \u001b[38;5;241m4\u001b[39m,\u001b[38;5;241m5\u001b[39m]] \u001b[38;5;241m-\u001b[39m pH\n\u001b[1;32m    109\u001b[0m row[:, \u001b[38;5;241m3\u001b[39m] \u001b[38;5;241m=\u001b[39m row[:, \u001b[38;5;241m3\u001b[39m] \u001b[38;5;241m-\u001b[39m (\u001b[38;5;241m14\u001b[39m\u001b[38;5;241m-\u001b[39mpH)\n",
      "Cell \u001b[0;32mIn[12], line 107\u001b[0m, in \u001b[0;36m<listcomp>\u001b[0;34m(.0)\u001b[0m\n\u001b[1;32m    104\u001b[0m pH \u001b[38;5;241m=\u001b[39m x[\u001b[38;5;241m1\u001b[39m]\n\u001b[1;32m    105\u001b[0m length \u001b[38;5;241m=\u001b[39m x[\u001b[38;5;241m2\u001b[39m]\n\u001b[0;32m--> 107\u001b[0m row \u001b[38;5;241m=\u001b[39m np\u001b[38;5;241m.\u001b[39marray([amino_acid_data_dictionary[amino_acid] \u001b[38;5;28;01mfor\u001b[39;00m amino_acid \u001b[38;5;129;01min\u001b[39;00m sequence])\n\u001b[1;32m    108\u001b[0m row[:, [\u001b[38;5;241m2\u001b[39m,\u001b[38;5;241m3\u001b[39m, \u001b[38;5;241m4\u001b[39m,\u001b[38;5;241m5\u001b[39m]] \u001b[38;5;241m=\u001b[39m row[:, [\u001b[38;5;241m2\u001b[39m,\u001b[38;5;241m3\u001b[39m, \u001b[38;5;241m4\u001b[39m,\u001b[38;5;241m5\u001b[39m]] \u001b[38;5;241m-\u001b[39m pH\n\u001b[1;32m    109\u001b[0m row[:, \u001b[38;5;241m3\u001b[39m] \u001b[38;5;241m=\u001b[39m row[:, \u001b[38;5;241m3\u001b[39m] \u001b[38;5;241m-\u001b[39m (\u001b[38;5;241m14\u001b[39m\u001b[38;5;241m-\u001b[39mpH)\n",
      "\u001b[0;31mKeyboardInterrupt\u001b[0m: "
     ]
    }
   ],
   "source": [
    "# Load in training and test data. Update training data with updated version\n",
    "\n",
    "train = pd.read_csv(\"../data/train.csv\", index_col=\"seq_id\")\n",
    "train_updates = pd.read_csv(\"../data/train_updates_20220929.csv\", index_col=\"seq_id\") # Updated version\n",
    "\n",
    "to_drop = train_updates[train_updates[\"tm\"].isnull()].index\n",
    "train.drop(index=to_drop, inplace=True)\n",
    "train_updates.drop(index=to_drop, inplace=True)\n",
    "\n",
    "to_change = train_updates.index\n",
    "train.drop(index=to_change, inplace=True)\n",
    "train = pd.concat([train, train_updates])\n",
    "\n",
    "train.drop(train[train.pH.isnull()].index, inplace=True)\n",
    "\n",
    "test = pd.read_csv(\"../data/test.csv\", index_col=\"seq_id\")\n",
    "\n",
    "\n",
    "pad_length = 4\n",
    "shingle_size = pad_length + 1\n",
    "\n",
    "train.insert(2, \"length\", train.protein_sequence.str.len())\n",
    "test.insert(2, \"length\", test.protein_sequence.str.len())\n",
    "\n",
    "cutoff_length = int(train.length.quantile(0.95))\n",
    "\n",
    "train.insert(1, \"exp_tm\", np.e ** (-1/train.tm))\n",
    "\n",
    "train.drop(train[train.length > cutoff_length].index, inplace=True)\n",
    "\n",
    "train.insert(1, \"padded_sequence\", \n",
    "             [string_pad(sequence, cutoff_length + 2*pad_length, pad_length) \n",
    "              for sequence in train.protein_sequence])\n",
    "test.insert(1, \"padded_sequence\", \n",
    "             [string_pad(sequence, cutoff_length + 2*pad_length, pad_length) \n",
    "              for sequence in test.protein_sequence])\n",
    "\n",
    "amino_acid_list = list(sorted({aa for sequence in test.protein_sequence for aa in set(sequence) }))\n",
    "\n",
    "\n",
    "train_split = 0.75\n",
    "\n",
    "column_labels = train.drop(columns=[\"tm\", \"protein_sequence\", \"data_source\", \"exp_tm\"]).columns\n",
    "X = train.drop(columns=[\"tm\", \"protein_sequence\", \"data_source\", \"exp_tm\"]).values\n",
    "Y = train[\"exp_tm\"].values\n",
    "\n",
    "X_train, Y_train, X_test, Y_test = test_train_split(X, Y, train_split)\n",
    "print(column_labels)\n",
    "\n",
    "\n",
    "print(X.shape)\n",
    "\n",
    "\n",
    "amino_acid_data = pd.read_csv(\"../data/aminoacids.csv\")\n",
    "amino_acid_data.drop(columns=[\"Name\", \"Abbr\", \"Molecular Formula\", \"Residue Formula\"], inplace=True)\n",
    "amino_acid_data = amino_acid_data[amino_acid_data.Letter.isin(amino_acid_list)]\n",
    "\n",
    "buffer_residue = {\n",
    "    \"Letter\": \"X\",\n",
    "    \"Molecular Weight\": 0,\n",
    "    \"Residue Weight\": 0,\n",
    "    \"pKa1\" : np.NaN,\n",
    "    \"pKb2\" : np.NaN,\n",
    "    \"pKx3\" : np.NaN,\n",
    "    \"pl4\"  : np.NaN,\n",
    "    \"H\" : 0,\n",
    "    \"VSC\" : 0,\n",
    "    \"P1\" : 0, \n",
    "    \"P2\" : 0,\n",
    "    \"SASA\" : 0,\n",
    "    \"NCISC\" : 0,\n",
    "    \"carbon\" : 0,\n",
    "    \"hydrogen\" : 0,\n",
    "    \"nitrogen\" : 0,\n",
    "    \"oxygen\" : 0,\n",
    "    \"sulfur\" : 0,\n",
    "}\n",
    "\n",
    "amino_acid_data = amino_acid_data.reset_index().drop(columns=\"index\")\n",
    "amino_acid_data.loc[len(amino_acid_data.index)] = list(buffer_residue.values())\n",
    "\n",
    "print(amino_acid_data.columns)\n",
    "\n",
    "amino_acid_data_dictionary = amino_acid_data.set_index('Letter').T.to_dict('list')\n",
    "amino_acid_data_dictionary = {key: np.array(value, dtype=np.float32) for key, value in amino_acid_data_dictionary.items()}\n",
    "\n",
    "\n",
    "column_names = [f\"{col}_{letter_num}\" \n",
    "                for letter_num in range(shingle_size) \n",
    "                for col in amino_acid_data.drop(columns=\"Letter\").columns]\n",
    "\n",
    "shingled_dimensions = ((cutoff_length + 2*pad_length - shingle_size) * X_train.shape[0],\n",
    "                       (amino_acid_data.columns.shape[0]-1) * shingle_size)\n",
    "X_train_shingled = np.zeros(shingled_dimensions, dtype=np.float32)\n",
    "Y_train_shingled = np.zeros(shingled_dimensions[0], dtype=np.float32)\n",
    "\n",
    "np.set_printoptions(suppress=True)\n",
    "print((cutoff_length + 2*pad_length - shingle_size))\n",
    "\n",
    "i = 0\n",
    "t0 = time.time()\n",
    "for x, y in zip(X_train, Y_train):\n",
    "    sequence = x[0]\n",
    "    pH = x[1]\n",
    "    length = x[2]\n",
    "    \n",
    "    row = np.array([amino_acid_data_dictionary[amino_acid] for amino_acid in sequence])\n",
    "    row[:, [2,3, 4,5]] = row[:, [2,3, 4,5]] - pH\n",
    "    row[:, 3] = row[:, 3] - (14-pH)\n",
    "    row[:, 2:6] = 10 ** (row[:, 2:6])\n",
    "    row[:, 2:6] = 1 / (row[:, 2:6] + 1)\n",
    "    row = np.nan_to_num(row, nan=1.0)\n",
    "    row = np.array([row[j:j+shingle_size].reshape(-1) for j in range(row.shape[0]-shingle_size)])\n",
    "    \n",
    "    X_train_shingled[i:i+(cutoff_length + 2*pad_length - shingle_size)] = row\n",
    "    Y_train_shingled[i:i+(cutoff_length + 2*pad_length - shingle_size)] = y\n",
    "\n",
    "    i += (cutoff_length + 2*pad_length - shingle_size)\n",
    "\n",
    "    print(f\"At {int(100 * i/shingled_dimensions[0])}%. Runtime: {int((time.time()-t0)/60)} minutes\", end=\"\\r\")\n",
    "print()\n",
    "\n",
    "dump_svmlight_file(X_train_shingled, Y_train_shingled, \"train_values.svm.txt\")\n",
    "#X_train_shingled = pd.DataFrame(X_train_shingled, columns=column_names)\n",
    "#Y_train_shingled = pd.DataFrame(Y_train_shingled.T, columns=[\"Tm\"]).Tm\n",
    "#X_train_shingled.to_csv(\"X_train.csv\")\n",
    "#Y_train_shingled.to_csv(\"Y_train.csv\")\n",
    "\n",
    "\n",
    "shingled_dimensions = ((cutoff_length + 2*pad_length - shingle_size) * X_test.shape[0],\n",
    "                       (amino_acid_data.columns.shape[0]-1) * shingle_size)\n",
    "X_test_shingled = np.zeros(shingled_dimensions, dtype=np.float32)\n",
    "Y_test_shingled = np.zeros(shingled_dimensions[0], dtype=np.float32)\n",
    "\n",
    "i = 0\n",
    "t0 = time.time()\n",
    "for x, y in zip(X_test, Y_test):\n",
    "    sequence = x[0]\n",
    "    pH = x[1]\n",
    "    length = x[2]\n",
    "    \n",
    "    row = np.array([amino_acid_data_dictionary[amino_acid] for amino_acid in sequence])\n",
    "    row[:, [2,3, 4,5]] = row[:, [2,3, 4,5]] - pH\n",
    "    row[:, 3] = row[:, 3] - (14-pH)\n",
    "    row[:, 2:6] = 10 ** (row[:, 2:6])\n",
    "    row[:, 2:6] = 1 / (row[:, 2:6] + 1)\n",
    "    row = np.nan_to_num(row, nan=1.0)\n",
    "    row = np.array([row[j:j+shingle_size].reshape(-1) for j in range(row.shape[0]-shingle_size)])\n",
    "    \n",
    "    X_test_shingled[i:i+(cutoff_length + 2*pad_length - shingle_size)] = row\n",
    "    Y_test_shingled[i:i+(cutoff_length + 2*pad_length - shingle_size)] = y\n",
    "\n",
    "    i += (cutoff_length + 2*pad_length - shingle_size)\n",
    "\n",
    "    print(f\"At {int(100 * i/shingled_dimensions[0])}%. Runtime: {int((time.time()-t0)/60)} minutes\", end=\"\\r\")\n",
    "\n",
    "dump_svmlight_file(X_test_shingled, Y_test_shingled, \"test_values.svm.txt\")\n",
    "#X_test_shingled = pd.DataFrame(X_test_shingled, columns=column_names)\n",
    "#Y_test_shingled = pd.DataFrame(Y_test_shingled.T, columns=[\"Tm\"]).Tm\n",
    "#X_test_shingled.to_csv(\"X_test.csv\")\n",
    "#Y_test_shingled.to_csv(\"Y_test.csv\")\n",
    "\n"
   ]
  },
  {
   "cell_type": "code",
   "execution_count": 2,
   "id": "19cb9665-2ec2-40ab-b1f8-94976e0a32ef",
   "metadata": {},
   "outputs": [
    {
     "ename": "XGBoostError",
     "evalue": "[10:41:48] /home/conda/feedstock_root/build_artifacts/xgboost-split_1705649946806/work/dmlc-core/src/io/local_filesys.cc:86: LocalFileSystem.GetPathInfo: train_values.svm.txt error: No such file or directory\nStack trace:\n  [bt] (0) /home/parashara/micromamba/envs/novozymes/lib/libxgboost.so(dmlc::LogMessageFatal::~LogMessageFatal()+0x6e) [0x7fe628f8c2ee]\n  [bt] (1) /home/parashara/micromamba/envs/novozymes/lib/libxgboost.so(dmlc::io::LocalFileSystem::GetPathInfo(dmlc::io::URI const&)+0x328) [0x7fe62962d9e8]\n  [bt] (2) /home/parashara/micromamba/envs/novozymes/lib/libxgboost.so(dmlc::io::InputSplitBase::InitInputFileInfo(std::__cxx11::basic_string<char, std::char_traits<char>, std::allocator<char> > const&, bool)+0x12e) [0x7fe62962ae7e]\n  [bt] (3) /home/parashara/micromamba/envs/novozymes/lib/libxgboost.so(dmlc::io::InputSplitBase::Init(dmlc::io::FileSystem*, char const*, unsigned long, bool)+0x85) [0x7fe62962b485]\n  [bt] (4) /home/parashara/micromamba/envs/novozymes/lib/libxgboost.so(dmlc::InputSplit::Create(char const*, char const*, unsigned int, unsigned int, char const*, bool, int, unsigned long, bool)+0x106d) [0x7fe6296181dd]\n  [bt] (5) /home/parashara/micromamba/envs/novozymes/lib/libxgboost.so(dmlc::InputSplit::Create(char const*, unsigned int, unsigned int, char const*)+0x1e) [0x7fe62961857e]\n  [bt] (6) /home/parashara/micromamba/envs/novozymes/lib/libxgboost.so(dmlc::Parser<unsigned int, float>* dmlc::data::CreateLibSVMParser<unsigned int, float>(std::__cxx11::basic_string<char, std::char_traits<char>, std::allocator<char> > const&, std::map<std::__cxx11::basic_string<char, std::char_traits<char>, std::allocator<char> >, std::__cxx11::basic_string<char, std::char_traits<char>, std::allocator<char> >, std::less<std::__cxx11::basic_string<char, std::char_traits<char>, std::allocator<char> > >, std::allocator<std::pair<std::__cxx11::basic_string<char, std::char_traits<char>, std::allocator<char> > const, std::__cxx11::basic_string<char, std::char_traits<char>, std::allocator<char> > > > > const&, unsigned int, unsigned int)+0x22) [0x7fe6295e17c2]\n  [bt] (7) /home/parashara/micromamba/envs/novozymes/lib/libxgboost.so(dmlc::Parser<unsigned int, float>* dmlc::data::CreateParser_<unsigned int, float>(char const*, unsigned int, unsigned int, char const*)+0x1ef) [0x7fe6295ca44f]\n  [bt] (8) /home/parashara/micromamba/envs/novozymes/lib/libxgboost.so(xgboost::data::fileiter::Reset(void*)+0x19) [0x7fe629192e19]\n\n",
     "output_type": "error",
     "traceback": [
      "\u001b[0;31m---------------------------------------------------------------------------\u001b[0m",
      "\u001b[0;31mXGBoostError\u001b[0m                              Traceback (most recent call last)",
      "Cell \u001b[0;32mIn[2], line 1\u001b[0m\n\u001b[0;32m----> 1\u001b[0m dtrain \u001b[38;5;241m=\u001b[39m \u001b[43mxgb\u001b[49m\u001b[38;5;241;43m.\u001b[39;49m\u001b[43mDMatrix\u001b[49m\u001b[43m(\u001b[49m\u001b[38;5;124;43m'\u001b[39;49m\u001b[38;5;124;43mtrain_values.svm.txt?format=libsvm#cacheprefix\u001b[39;49m\u001b[38;5;124;43m'\u001b[39;49m\u001b[43m)\u001b[49m\n\u001b[1;32m      2\u001b[0m dtest \u001b[38;5;241m=\u001b[39m xgb\u001b[38;5;241m.\u001b[39mDMatrix(\u001b[38;5;124m'\u001b[39m\u001b[38;5;124mX_test.csv?format=csv&label_column=0#cacheprefix\u001b[39m\u001b[38;5;124m'\u001b[39m)\n\u001b[1;32m      3\u001b[0m Y_test \u001b[38;5;241m=\u001b[39m pd\u001b[38;5;241m.\u001b[39mread_csv(\u001b[38;5;124m\"\u001b[39m\u001b[38;5;124mY_test.csv\u001b[39m\u001b[38;5;124m\"\u001b[39m, names\u001b[38;5;241m=\u001b[39m[\u001b[38;5;124m\"\u001b[39m\u001b[38;5;124mnum\u001b[39m\u001b[38;5;124m\"\u001b[39m, \u001b[38;5;124m\"\u001b[39m\u001b[38;5;124mtm\u001b[39m\u001b[38;5;124m\"\u001b[39m], header\u001b[38;5;241m=\u001b[39m\u001b[38;5;28;01mNone\u001b[39;00m)\n",
      "File \u001b[0;32m~/micromamba/envs/novozymes/lib/python3.11/site-packages/xgboost/core.py:730\u001b[0m, in \u001b[0;36mrequire_keyword_args.<locals>.throw_if.<locals>.inner_f\u001b[0;34m(*args, **kwargs)\u001b[0m\n\u001b[1;32m    728\u001b[0m \u001b[38;5;28;01mfor\u001b[39;00m k, arg \u001b[38;5;129;01min\u001b[39;00m \u001b[38;5;28mzip\u001b[39m(sig\u001b[38;5;241m.\u001b[39mparameters, args):\n\u001b[1;32m    729\u001b[0m     kwargs[k] \u001b[38;5;241m=\u001b[39m arg\n\u001b[0;32m--> 730\u001b[0m \u001b[38;5;28;01mreturn\u001b[39;00m \u001b[43mfunc\u001b[49m\u001b[43m(\u001b[49m\u001b[38;5;241;43m*\u001b[39;49m\u001b[38;5;241;43m*\u001b[39;49m\u001b[43mkwargs\u001b[49m\u001b[43m)\u001b[49m\n",
      "File \u001b[0;32m~/micromamba/envs/novozymes/lib/python3.11/site-packages/xgboost/core.py:857\u001b[0m, in \u001b[0;36mDMatrix.__init__\u001b[0;34m(self, data, label, weight, base_margin, missing, silent, feature_names, feature_types, nthread, group, qid, label_lower_bound, label_upper_bound, feature_weights, enable_categorical, data_split_mode)\u001b[0m\n\u001b[1;32m    854\u001b[0m     \u001b[38;5;28;01massert\u001b[39;00m \u001b[38;5;28mself\u001b[39m\u001b[38;5;241m.\u001b[39mhandle \u001b[38;5;129;01mis\u001b[39;00m \u001b[38;5;129;01mnot\u001b[39;00m \u001b[38;5;28;01mNone\u001b[39;00m\n\u001b[1;32m    855\u001b[0m     \u001b[38;5;28;01mreturn\u001b[39;00m\n\u001b[0;32m--> 857\u001b[0m handle, feature_names, feature_types \u001b[38;5;241m=\u001b[39m \u001b[43mdispatch_data_backend\u001b[49m\u001b[43m(\u001b[49m\n\u001b[1;32m    858\u001b[0m \u001b[43m    \u001b[49m\u001b[43mdata\u001b[49m\u001b[43m,\u001b[49m\n\u001b[1;32m    859\u001b[0m \u001b[43m    \u001b[49m\u001b[43mmissing\u001b[49m\u001b[38;5;241;43m=\u001b[39;49m\u001b[38;5;28;43mself\u001b[39;49m\u001b[38;5;241;43m.\u001b[39;49m\u001b[43mmissing\u001b[49m\u001b[43m,\u001b[49m\n\u001b[1;32m    860\u001b[0m \u001b[43m    \u001b[49m\u001b[43mthreads\u001b[49m\u001b[38;5;241;43m=\u001b[39;49m\u001b[38;5;28;43mself\u001b[39;49m\u001b[38;5;241;43m.\u001b[39;49m\u001b[43mnthread\u001b[49m\u001b[43m,\u001b[49m\n\u001b[1;32m    861\u001b[0m \u001b[43m    \u001b[49m\u001b[43mfeature_names\u001b[49m\u001b[38;5;241;43m=\u001b[39;49m\u001b[43mfeature_names\u001b[49m\u001b[43m,\u001b[49m\n\u001b[1;32m    862\u001b[0m \u001b[43m    \u001b[49m\u001b[43mfeature_types\u001b[49m\u001b[38;5;241;43m=\u001b[39;49m\u001b[43mfeature_types\u001b[49m\u001b[43m,\u001b[49m\n\u001b[1;32m    863\u001b[0m \u001b[43m    \u001b[49m\u001b[43menable_categorical\u001b[49m\u001b[38;5;241;43m=\u001b[39;49m\u001b[43menable_categorical\u001b[49m\u001b[43m,\u001b[49m\n\u001b[1;32m    864\u001b[0m \u001b[43m    \u001b[49m\u001b[43mdata_split_mode\u001b[49m\u001b[38;5;241;43m=\u001b[39;49m\u001b[43mdata_split_mode\u001b[49m\u001b[43m,\u001b[49m\n\u001b[1;32m    865\u001b[0m \u001b[43m\u001b[49m\u001b[43m)\u001b[49m\n\u001b[1;32m    866\u001b[0m \u001b[38;5;28;01massert\u001b[39;00m handle \u001b[38;5;129;01mis\u001b[39;00m \u001b[38;5;129;01mnot\u001b[39;00m \u001b[38;5;28;01mNone\u001b[39;00m\n\u001b[1;32m    867\u001b[0m \u001b[38;5;28mself\u001b[39m\u001b[38;5;241m.\u001b[39mhandle \u001b[38;5;241m=\u001b[39m handle\n",
      "File \u001b[0;32m~/micromamba/envs/novozymes/lib/python3.11/site-packages/xgboost/data.py:1079\u001b[0m, in \u001b[0;36mdispatch_data_backend\u001b[0;34m(data, missing, threads, feature_names, feature_types, enable_categorical, data_split_mode)\u001b[0m\n\u001b[1;32m   1075\u001b[0m     \u001b[38;5;28;01mreturn\u001b[39;00m _from_numpy_array(\n\u001b[1;32m   1076\u001b[0m         data, missing, threads, feature_names, feature_types, data_split_mode\n\u001b[1;32m   1077\u001b[0m     )\n\u001b[1;32m   1078\u001b[0m \u001b[38;5;28;01mif\u001b[39;00m _is_uri(data):\n\u001b[0;32m-> 1079\u001b[0m     \u001b[38;5;28;01mreturn\u001b[39;00m \u001b[43m_from_uri\u001b[49m\u001b[43m(\u001b[49m\u001b[43mdata\u001b[49m\u001b[43m,\u001b[49m\u001b[43m \u001b[49m\u001b[43mmissing\u001b[49m\u001b[43m,\u001b[49m\u001b[43m \u001b[49m\u001b[43mfeature_names\u001b[49m\u001b[43m,\u001b[49m\u001b[43m \u001b[49m\u001b[43mfeature_types\u001b[49m\u001b[43m,\u001b[49m\u001b[43m \u001b[49m\u001b[43mdata_split_mode\u001b[49m\u001b[43m)\u001b[49m\n\u001b[1;32m   1080\u001b[0m \u001b[38;5;28;01mif\u001b[39;00m _is_list(data):\n\u001b[1;32m   1081\u001b[0m     \u001b[38;5;28;01mreturn\u001b[39;00m _from_list(data, missing, threads, feature_names, feature_types)\n",
      "File \u001b[0;32m~/micromamba/envs/novozymes/lib/python3.11/site-packages/xgboost/data.py:994\u001b[0m, in \u001b[0;36m_from_uri\u001b[0;34m(data, missing, feature_names, feature_types, data_split_mode)\u001b[0m\n\u001b[1;32m    989\u001b[0m args \u001b[38;5;241m=\u001b[39m {\n\u001b[1;32m    990\u001b[0m     \u001b[38;5;124m\"\u001b[39m\u001b[38;5;124muri\u001b[39m\u001b[38;5;124m\"\u001b[39m: \u001b[38;5;28mstr\u001b[39m(data),\n\u001b[1;32m    991\u001b[0m     \u001b[38;5;124m\"\u001b[39m\u001b[38;5;124mdata_split_mode\u001b[39m\u001b[38;5;124m\"\u001b[39m: \u001b[38;5;28mint\u001b[39m(data_split_mode),\n\u001b[1;32m    992\u001b[0m }\n\u001b[1;32m    993\u001b[0m config \u001b[38;5;241m=\u001b[39m \u001b[38;5;28mbytes\u001b[39m(json\u001b[38;5;241m.\u001b[39mdumps(args), \u001b[38;5;124m\"\u001b[39m\u001b[38;5;124mutf-8\u001b[39m\u001b[38;5;124m\"\u001b[39m)\n\u001b[0;32m--> 994\u001b[0m \u001b[43m_check_call\u001b[49m\u001b[43m(\u001b[49m\u001b[43m_LIB\u001b[49m\u001b[38;5;241;43m.\u001b[39;49m\u001b[43mXGDMatrixCreateFromURI\u001b[49m\u001b[43m(\u001b[49m\u001b[43mconfig\u001b[49m\u001b[43m,\u001b[49m\u001b[43m \u001b[49m\u001b[43mctypes\u001b[49m\u001b[38;5;241;43m.\u001b[39;49m\u001b[43mbyref\u001b[49m\u001b[43m(\u001b[49m\u001b[43mhandle\u001b[49m\u001b[43m)\u001b[49m\u001b[43m)\u001b[49m\u001b[43m)\u001b[49m\n\u001b[1;32m    995\u001b[0m \u001b[38;5;28;01mreturn\u001b[39;00m handle, feature_names, feature_types\n",
      "File \u001b[0;32m~/micromamba/envs/novozymes/lib/python3.11/site-packages/xgboost/core.py:282\u001b[0m, in \u001b[0;36m_check_call\u001b[0;34m(ret)\u001b[0m\n\u001b[1;32m    271\u001b[0m \u001b[38;5;250m\u001b[39m\u001b[38;5;124;03m\"\"\"Check the return value of C API call\u001b[39;00m\n\u001b[1;32m    272\u001b[0m \n\u001b[1;32m    273\u001b[0m \u001b[38;5;124;03mThis function will raise exception when error occurs.\u001b[39;00m\n\u001b[0;32m   (...)\u001b[0m\n\u001b[1;32m    279\u001b[0m \u001b[38;5;124;03m    return value from API calls\u001b[39;00m\n\u001b[1;32m    280\u001b[0m \u001b[38;5;124;03m\"\"\"\u001b[39;00m\n\u001b[1;32m    281\u001b[0m \u001b[38;5;28;01mif\u001b[39;00m ret \u001b[38;5;241m!=\u001b[39m \u001b[38;5;241m0\u001b[39m:\n\u001b[0;32m--> 282\u001b[0m     \u001b[38;5;28;01mraise\u001b[39;00m XGBoostError(py_str(_LIB\u001b[38;5;241m.\u001b[39mXGBGetLastError()))\n",
      "\u001b[0;31mXGBoostError\u001b[0m: [10:41:48] /home/conda/feedstock_root/build_artifacts/xgboost-split_1705649946806/work/dmlc-core/src/io/local_filesys.cc:86: LocalFileSystem.GetPathInfo: train_values.svm.txt error: No such file or directory\nStack trace:\n  [bt] (0) /home/parashara/micromamba/envs/novozymes/lib/libxgboost.so(dmlc::LogMessageFatal::~LogMessageFatal()+0x6e) [0x7fe628f8c2ee]\n  [bt] (1) /home/parashara/micromamba/envs/novozymes/lib/libxgboost.so(dmlc::io::LocalFileSystem::GetPathInfo(dmlc::io::URI const&)+0x328) [0x7fe62962d9e8]\n  [bt] (2) /home/parashara/micromamba/envs/novozymes/lib/libxgboost.so(dmlc::io::InputSplitBase::InitInputFileInfo(std::__cxx11::basic_string<char, std::char_traits<char>, std::allocator<char> > const&, bool)+0x12e) [0x7fe62962ae7e]\n  [bt] (3) /home/parashara/micromamba/envs/novozymes/lib/libxgboost.so(dmlc::io::InputSplitBase::Init(dmlc::io::FileSystem*, char const*, unsigned long, bool)+0x85) [0x7fe62962b485]\n  [bt] (4) /home/parashara/micromamba/envs/novozymes/lib/libxgboost.so(dmlc::InputSplit::Create(char const*, char const*, unsigned int, unsigned int, char const*, bool, int, unsigned long, bool)+0x106d) [0x7fe6296181dd]\n  [bt] (5) /home/parashara/micromamba/envs/novozymes/lib/libxgboost.so(dmlc::InputSplit::Create(char const*, unsigned int, unsigned int, char const*)+0x1e) [0x7fe62961857e]\n  [bt] (6) /home/parashara/micromamba/envs/novozymes/lib/libxgboost.so(dmlc::Parser<unsigned int, float>* dmlc::data::CreateLibSVMParser<unsigned int, float>(std::__cxx11::basic_string<char, std::char_traits<char>, std::allocator<char> > const&, std::map<std::__cxx11::basic_string<char, std::char_traits<char>, std::allocator<char> >, std::__cxx11::basic_string<char, std::char_traits<char>, std::allocator<char> >, std::less<std::__cxx11::basic_string<char, std::char_traits<char>, std::allocator<char> > >, std::allocator<std::pair<std::__cxx11::basic_string<char, std::char_traits<char>, std::allocator<char> > const, std::__cxx11::basic_string<char, std::char_traits<char>, std::allocator<char> > > > > const&, unsigned int, unsigned int)+0x22) [0x7fe6295e17c2]\n  [bt] (7) /home/parashara/micromamba/envs/novozymes/lib/libxgboost.so(dmlc::Parser<unsigned int, float>* dmlc::data::CreateParser_<unsigned int, float>(char const*, unsigned int, unsigned int, char const*)+0x1ef) [0x7fe6295ca44f]\n  [bt] (8) /home/parashara/micromamba/envs/novozymes/lib/libxgboost.so(xgboost::data::fileiter::Reset(void*)+0x19) [0x7fe629192e19]\n\n"
     ]
    }
   ],
   "source": [
    "dtrain = xgb.DMatrix('train_values.svm.txt?format=libsvm#cacheprefix')\n",
    "dtest = xgb.DMatrix('X_test.csv?format=csv&label_column=0#cacheprefix')\n",
    "Y_test = pd.read_csv(\"Y_test.csv\", names=[\"num\", \"tm\"], header=None)\n",
    "Y_test = np.mean(Y_test.tm.values.reshape((1128, -1)), axis=0)\n"
   ]
  },
  {
   "cell_type": "code",
   "execution_count": 4,
   "id": "3b32bd86-f8bf-40a6-bd47-87f4eb6a3813",
   "metadata": {},
   "outputs": [
    {
     "name": "stdout",
     "output_type": "stream",
     "text": [
      "depth\tweight\tMSE\n"
     ]
    },
    {
     "name": "stderr",
     "output_type": "stream",
     "text": [
      "/home/parashara/micromamba/envs/novozymes/lib/python3.11/site-packages/xgboost/core.py:160: UserWarning: [21:12:41] WARNING: /home/conda/feedstock_root/build_artifacts/xgboost-split_1705649946806/work/src/learner.cc:742: \n",
      "Parameters: { \"n_estimators\" } are not used.\n",
      "\n",
      "  warnings.warn(smsg, UserWarning)\n"
     ]
    },
    {
     "name": "stdout",
     "output_type": "stream",
     "text": [
      "2\t1\t62.5598831193374\n"
     ]
    },
    {
     "name": "stderr",
     "output_type": "stream",
     "text": [
      "/home/parashara/micromamba/envs/novozymes/lib/python3.11/site-packages/xgboost/core.py:160: UserWarning: [21:16:16] WARNING: /home/conda/feedstock_root/build_artifacts/xgboost-split_1705649946806/work/src/learner.cc:742: \n",
      "Parameters: { \"n_estimators\" } are not used.\n",
      "\n",
      "  warnings.warn(smsg, UserWarning)\n"
     ]
    },
    {
     "name": "stdout",
     "output_type": "stream",
     "text": [
      "2\t3\t62.5598831193374\n"
     ]
    },
    {
     "name": "stderr",
     "output_type": "stream",
     "text": [
      "/home/parashara/micromamba/envs/novozymes/lib/python3.11/site-packages/xgboost/core.py:160: UserWarning: [21:19:08] WARNING: /home/conda/feedstock_root/build_artifacts/xgboost-split_1705649946806/work/src/learner.cc:742: \n",
      "Parameters: { \"n_estimators\" } are not used.\n",
      "\n",
      "  warnings.warn(smsg, UserWarning)\n"
     ]
    },
    {
     "name": "stdout",
     "output_type": "stream",
     "text": [
      "2\t6\t62.5598831193374\n"
     ]
    },
    {
     "name": "stderr",
     "output_type": "stream",
     "text": [
      "/home/parashara/micromamba/envs/novozymes/lib/python3.11/site-packages/xgboost/core.py:160: UserWarning: [21:22:02] WARNING: /home/conda/feedstock_root/build_artifacts/xgboost-split_1705649946806/work/src/learner.cc:742: \n",
      "Parameters: { \"n_estimators\" } are not used.\n",
      "\n",
      "  warnings.warn(smsg, UserWarning)\n"
     ]
    },
    {
     "name": "stdout",
     "output_type": "stream",
     "text": [
      "5\t1\t0.5155006589246801\n"
     ]
    },
    {
     "name": "stderr",
     "output_type": "stream",
     "text": [
      "/home/parashara/micromamba/envs/novozymes/lib/python3.11/site-packages/xgboost/core.py:160: UserWarning: [21:28:25] WARNING: /home/conda/feedstock_root/build_artifacts/xgboost-split_1705649946806/work/src/learner.cc:742: \n",
      "Parameters: { \"n_estimators\" } are not used.\n",
      "\n",
      "  warnings.warn(smsg, UserWarning)\n"
     ]
    },
    {
     "name": "stdout",
     "output_type": "stream",
     "text": [
      "5\t3\t0.08120459241279403\n"
     ]
    },
    {
     "name": "stderr",
     "output_type": "stream",
     "text": [
      "/home/parashara/micromamba/envs/novozymes/lib/python3.11/site-packages/xgboost/core.py:160: UserWarning: [21:34:44] WARNING: /home/conda/feedstock_root/build_artifacts/xgboost-split_1705649946806/work/src/learner.cc:742: \n",
      "Parameters: { \"n_estimators\" } are not used.\n",
      "\n",
      "  warnings.warn(smsg, UserWarning)\n"
     ]
    },
    {
     "name": "stdout",
     "output_type": "stream",
     "text": [
      "5\t6\t1.4809949612460291\n"
     ]
    },
    {
     "name": "stderr",
     "output_type": "stream",
     "text": [
      "/home/parashara/micromamba/envs/novozymes/lib/python3.11/site-packages/xgboost/core.py:160: UserWarning: [21:41:05] WARNING: /home/conda/feedstock_root/build_artifacts/xgboost-split_1705649946806/work/src/learner.cc:742: \n",
      "Parameters: { \"n_estimators\" } are not used.\n",
      "\n",
      "  warnings.warn(smsg, UserWarning)\n"
     ]
    },
    {
     "name": "stdout",
     "output_type": "stream",
     "text": [
      "8\t1\t0.2755095029228308\n"
     ]
    },
    {
     "name": "stderr",
     "output_type": "stream",
     "text": [
      "/home/parashara/micromamba/envs/novozymes/lib/python3.11/site-packages/xgboost/core.py:160: UserWarning: [21:51:41] WARNING: /home/conda/feedstock_root/build_artifacts/xgboost-split_1705649946806/work/src/learner.cc:742: \n",
      "Parameters: { \"n_estimators\" } are not used.\n",
      "\n",
      "  warnings.warn(smsg, UserWarning)\n"
     ]
    },
    {
     "name": "stdout",
     "output_type": "stream",
     "text": [
      "8\t3\t4.975094802574843\n"
     ]
    },
    {
     "name": "stderr",
     "output_type": "stream",
     "text": [
      "/home/parashara/micromamba/envs/novozymes/lib/python3.11/site-packages/xgboost/core.py:160: UserWarning: [22:03:46] WARNING: /home/conda/feedstock_root/build_artifacts/xgboost-split_1705649946806/work/src/learner.cc:742: \n",
      "Parameters: { \"n_estimators\" } are not used.\n",
      "\n",
      "  warnings.warn(smsg, UserWarning)\n"
     ]
    },
    {
     "name": "stdout",
     "output_type": "stream",
     "text": [
      "8\t6\t22.822033401959576\n"
     ]
    }
   ],
   "source": [
    "print(\"depth\\tweight\\tMSE\")\n",
    "for depth in [2, 5, 8]:\n",
    "    for weight in [1, 3, 6]:\n",
    "\n",
    "        params = {\n",
    "            \"eval_metric\" : \"mae\",\n",
    "            \"objective\" : \"reg:squarederror\",\n",
    "            \"learning_rate\" : 0.1,\n",
    "            \"max_depth\" : depth,\n",
    "            \"min_child_weight\" : weight,\n",
    "            \"gamma\" : 0,\n",
    "            \"subsample\" : 0.8,\n",
    "            \"colsample_bytree\" : 0.8,\n",
    "            \"scale_pos_weight\" : 1,\n",
    "            \"seed\" : 2024,\n",
    "        }\n",
    "        \n",
    "        xgb_model = xgb.train(params, dtrain, \n",
    "                              num_boost_round=100, \n",
    "                              verbose_eval=10)\n",
    "        \n",
    "        Y_pred = xgb_model.predict(dtest)\n",
    "        Y_pred = np.mean(Y_pred.reshape((1128, -1)), axis=0)\n",
    "        print(f\"{depth}\\t{weight}\\t{np.mean(((-1/np.log(Y_pred)) - (-1/np.log(Y_test)))**2)}\")"
   ]
  },
  {
   "cell_type": "code",
   "execution_count": 5,
   "id": "a3710091-e27c-4238-89e2-81ba76062aa1",
   "metadata": {},
   "outputs": [
    {
     "name": "stdout",
     "output_type": "stream",
     "text": [
      "gamma\tMSE\n",
      "0\t0.08120459241279403\n",
      "0.1\t14.209564477719363\n",
      "0.3\t10.437982436627522\n"
     ]
    }
   ],
   "source": [
    "print(\"gamma\\tMSE\")\n",
    "for g in [0, 0.1, 0.3, 0.5]:\n",
    "\n",
    "    params = {\n",
    "        \"eval_metric\" : \"mae\",\n",
    "        \"objective\" : \"reg:squarederror\",\n",
    "        \"learning_rate\" : 0.1,\n",
    "        \"max_depth\" : 5,\n",
    "        \"min_child_weight\" : 3,\n",
    "        \"gamma\" : g,\n",
    "        \"subsample\" : 0.8,\n",
    "        \"colsample_bytree\" : 0.8,\n",
    "        \"scale_pos_weight\" : 1,\n",
    "        \"seed\" : 2024,\n",
    "    }\n",
    "    \n",
    "    xgb_model = xgb.train(params, dtrain, \n",
    "                          num_boost_round=100, \n",
    "                          verbose_eval=10)\n",
    "    \n",
    "    Y_pred = xgb_model.predict(dtest)\n",
    "    Y_pred = np.mean(Y_pred.reshape((1128, -1)), axis=0)\n",
    "    print(f\"{g}\\t{np.mean(((-1/np.log(Y_pred)) - (-1/np.log(Y_test)))**2)}\")"
   ]
  },
  {
   "cell_type": "code",
   "execution_count": 8,
   "id": "d0586bb0-e5b7-4585-baa2-cb685faca863",
   "metadata": {},
   "outputs": [
    {
     "name": "stdout",
     "output_type": "stream",
     "text": [
      "subs\tcols\tMSE\n",
      "0.6\t0.6\t2.799080331694534\n",
      "0.6\t0.7\t0.30779620541817626\n",
      "0.6\t0.8\t2.1331222033367356\n",
      "0.6\t0.9\t0.3534327598043672\n",
      "0.7\t0.6\t8.114092692644652\n",
      "0.7\t0.7\t11.99103680021679\n",
      "0.7\t0.8\t0.2608935148117849\n",
      "0.7\t0.9\t1.4686510644914603\n",
      "0.8\t0.6\t2.546560428727751\n",
      "0.8\t0.7\t9.149214278525237\n",
      "0.8\t0.8\t0.08120459241279403\n",
      "0.8\t0.9\t0.09703590424951294\n",
      "0.9\t0.6\t0.23300579661072673\n",
      "0.9\t0.7\t22.30234002735722\n",
      "0.9\t0.8\t2.087487168199545\n",
      "0.9\t0.9\t1.2569701306340646\n"
     ]
    }
   ],
   "source": [
    "print(\"subs\\tcols\\tMSE\")\n",
    "for ss in [0.6, 0.7, 0.8, 0.9]:\n",
    "    for cs in [0.6, 0.7, 0.8, 0.9]:\n",
    "\n",
    "        params = {\n",
    "            \"eval_metric\" : \"mae\",\n",
    "            \"objective\" : \"reg:squarederror\",\n",
    "            \"learning_rate\" : 0.1,\n",
    "            \"max_depth\" : 5,\n",
    "            \"min_child_weight\" : 3,\n",
    "            \"gamma\" : 0,\n",
    "            \"subsample\" : ss,\n",
    "            \"colsample_bytree\" : cs,\n",
    "            \"scale_pos_weight\" : 1,\n",
    "            \"seed\" : 2024,\n",
    "        }\n",
    "        \n",
    "        xgb_model = xgb.train(params, dtrain, \n",
    "                              num_boost_round=100, \n",
    "                              verbose_eval=10)\n",
    "        \n",
    "        Y_pred = xgb_model.predict(dtest)\n",
    "        Y_pred = np.mean(Y_pred.reshape((1128, -1)), axis=0)\n",
    "        print(f\"{ss}\\t{cs}\\t{np.mean(((-1/np.log(Y_pred)) - (-1/np.log(Y_test)))**2)}\")"
   ]
  },
  {
   "cell_type": "code",
   "execution_count": 1,
   "id": "a27b4704-7076-42c0-8644-cf0f79ed6dc2",
   "metadata": {},
   "outputs": [
    {
     "name": "stdout",
     "output_type": "stream",
     "text": [
      "Loading training and test data\n",
      "Training model\n"
     ]
    }
   ],
   "source": [
    "import sys\n",
    "from collections import defaultdict\n",
    "import time\n",
    "\n",
    "import numpy as np # linear algebra\n",
    "import pandas as pd # data processing, CSV file I/O (e.g. pd.read_csv)\n",
    "import matplotlib.pyplot as plt\n",
    "from sklearn.utils import shuffle\n",
    "from sklearn.datasets import dump_svmlight_file\n",
    "from sklearn.datasets import load_svmlight_file\n",
    "import scipy\n",
    "import xgboost as xgb\n",
    "\n",
    "from utils.utils import *\n",
    "\n",
    "print(f\"Loading training and test data\")\n",
    "\n",
    "dtrain = xgb.DMatrix(f\"train_all.svm.txt?format=libsvm#cacheprefix\")\n",
    "X_test = xgb.DMatrix('X_test.csv?format=csv#cacheprefix')\n",
    "\n",
    "print(f\"Training model\")\n",
    "params = {\n",
    "    \"eval_metric\" : \"mae\",\n",
    "    \"objective\" : \"reg:squarederror\",\n",
    "    \"learning_rate\" : 0.1,\n",
    "    \"max_depth\" : 5,\n",
    "    \"min_child_weight\" : 3,\n",
    "    \"gamma\" : 0,\n",
    "    \"subsample\" : 0.8,\n",
    "    \"colsample_bytree\" : 0.8,\n",
    "    \"scale_pos_weight\" : 1,\n",
    "    \"seed\" : 2024,\n",
    "}\n",
    "\n",
    "xgb_model = xgb.train(params, dtrain,\n",
    "                      num_boost_round=100,\n",
    "                      verbose_eval=10)\n",
    "\n",
    "\n"
   ]
  },
  {
   "cell_type": "code",
   "execution_count": 9,
   "id": "1adb3c9b-aaec-42a2-90eb-aad5d9755b62",
   "metadata": {},
   "outputs": [
    {
     "name": "stdout",
     "output_type": "stream",
     "text": [
      "Prediction:\n",
      "(2721864, 85)\n"
     ]
    }
   ],
   "source": [
    "print(\"Prediction:\")\n",
    "X_test = np.loadtxt(\"X_test.csv\", delimiter=\",\")\n",
    "print(X_test.shape)\n",
    "X_test = xgb.DMatrix(X_test)\n"
   ]
  },
  {
   "cell_type": "code",
   "execution_count": 19,
   "id": "8d6d279a-8a7c-4c6f-9cec-68e7526a62fd",
   "metadata": {},
   "outputs": [],
   "source": [
    "\n",
    "Y_pred = xgb_model.predict(X_test)"
   ]
  },
  {
   "cell_type": "code",
   "execution_count": 20,
   "id": "97fa9042-2c07-415f-89b3-6b13ee888890",
   "metadata": {},
   "outputs": [],
   "source": [
    "Y_pred = np.mean(Y_pred.reshape((1128, -1)), axis=0)\n",
    "Y_pred = -1 / np.log(Y_pred)\n"
   ]
  },
  {
   "cell_type": "code",
   "execution_count": 21,
   "id": "49176c88-adda-4414-bb5b-077ac40105c3",
   "metadata": {},
   "outputs": [
    {
     "data": {
      "text/plain": [
       "array([60.11433 , 60.13426 , 60.115635, ..., 60.114765, 60.131847,\n",
       "       60.123955], dtype=float32)"
      ]
     },
     "execution_count": 21,
     "metadata": {},
     "output_type": "execute_result"
    }
   ],
   "source": [
    "Y_pred"
   ]
  },
  {
   "cell_type": "code",
   "execution_count": 22,
   "id": "c6ac1c2f-4070-4747-bdb1-e8b3dd210fc7",
   "metadata": {},
   "outputs": [],
   "source": [
    "indices = list(range(31390, 31390 + len(Y_pred)))"
   ]
  },
  {
   "cell_type": "code",
   "execution_count": 23,
   "id": "6f8a0e7e-2b03-4292-9ebf-6d38c1de7d86",
   "metadata": {},
   "outputs": [],
   "source": [
    "Y_pred = pd.DataFrame(Y_pred, columns=['tm'], index=indices)"
   ]
  },
  {
   "cell_type": "code",
   "execution_count": 24,
   "id": "e438800b-e8ef-47c3-b65c-e352ec2520ee",
   "metadata": {},
   "outputs": [],
   "source": [
    "Y_pred.to_csv(\"Y_predictions_xgb.csv\")"
   ]
  },
  {
   "cell_type": "code",
   "execution_count": null,
   "id": "7473540c-e416-4cc3-ab13-85825e21a3c5",
   "metadata": {},
   "outputs": [],
   "source": []
  }
 ],
 "metadata": {
  "kernelspec": {
   "display_name": "Python 3 (ipykernel)",
   "language": "python",
   "name": "python3"
  },
  "language_info": {
   "codemirror_mode": {
    "name": "ipython",
    "version": 3
   },
   "file_extension": ".py",
   "mimetype": "text/x-python",
   "name": "python",
   "nbconvert_exporter": "python",
   "pygments_lexer": "ipython3",
   "version": "3.11.8"
  }
 },
 "nbformat": 4,
 "nbformat_minor": 5
}
